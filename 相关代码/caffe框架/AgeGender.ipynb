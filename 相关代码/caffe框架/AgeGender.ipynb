{
 "cells": [
  {
   "cell_type": "code",
   "execution_count": 21,
   "id": "06f00f06",
   "metadata": {},
   "outputs": [],
   "source": [
    "from pynq.overlays.base import BaseOverlay\n",
    "from pynq.lib.video import *\n",
    "base = BaseOverlay(\"base.bit\")\n",
    "import cv2\n",
    "import time"
   ]
  },
  {
   "cell_type": "code",
   "execution_count": 22,
   "id": "770ad1a2",
   "metadata": {},
   "outputs": [
    {
     "data": {
      "text/plain": [
       "<contextlib._GeneratorContextManager at 0x9b4dbfa0>"
      ]
     },
     "execution_count": 22,
     "metadata": {},
     "output_type": "execute_result"
    }
   ],
   "source": [
    "Mode = VideoMode(640,480,24)\n",
    "hdmi_out = base.video.hdmi_out\n",
    "hdmi_out.configure(Mode,PIXEL_BGR)\n",
    "hdmi_out.start()"
   ]
  },
  {
   "cell_type": "code",
   "execution_count": 23,
   "id": "032455a6",
   "metadata": {},
   "outputs": [],
   "source": [
    "frame_out_w = 1920\n",
    "frame_out_h = 1080\n",
    "frame_in_w = 640\n",
    "frame_in_h = 480"
   ]
  },
  {
   "cell_type": "code",
   "execution_count": 24,
   "id": "92099618",
   "metadata": {},
   "outputs": [
    {
     "name": "stdout",
     "output_type": "stream",
     "text": [
      "Capture device is open: True\n"
     ]
    }
   ],
   "source": [
    "videoIn = cv2.VideoCapture(0)\n",
    "videoIn.set(cv2.CAP_PROP_FRAME_WIDTH, frame_in_w);\n",
    "videoIn.set(cv2.CAP_PROP_FRAME_HEIGHT, frame_in_h);\n",
    "print(\"Capture device is open: \" + str(videoIn.isOpened()))"
   ]
  },
  {
   "cell_type": "code",
   "execution_count": 25,
   "id": "6e8de482",
   "metadata": {},
   "outputs": [],
   "source": [
    "def getFaceBox(net, frame, conf_threshold=0.7):\n",
    "    frameOpencvDnn = frame.copy()\n",
    "    frameHeight = frameOpencvDnn.shape[0]\n",
    "    frameWidth = frameOpencvDnn.shape[1]  \n",
    "    blob = cv2.dnn.blobFromImage(frameOpencvDnn, 1.0, (300, 300), [104, 117, 123], True, False) \n",
    "    net.setInput(blob)\n",
    "    detections = net.forward()  \n",
    "    bboxes = []\n",
    "    for i in range(detections.shape[2]):\n",
    "        confidence = detections[0, 0, i, 2]\n",
    "        if confidence > conf_threshold:\n",
    "            x1 = int(detections[0, 0, i, 3] * frameWidth)\n",
    "            y1 = int(detections[0, 0, i, 4] * frameHeight)\n",
    "            x2 = int(detections[0, 0, i, 5] * frameWidth)\n",
    "            y2 = int(detections[0, 0, i, 6] * frameHeight)\n",
    "            bboxes.append([x1, y1, x2, y2])  \n",
    "            cv2.rectangle(frameOpencvDnn, (x1, y1), (x2, y2), (0, 255, 0), int(round(frameHeight / 150)),\n",
    "                         8)  \n",
    "    return frameOpencvDnn, bboxes"
   ]
  },
  {
   "cell_type": "code",
   "execution_count": 26,
   "id": "36590d36",
   "metadata": {},
   "outputs": [],
   "source": [
    "faceProto = \"./AgeGender/opencv_face_detector.pbtxt\"\n",
    "faceModel = \"./AgeGender/opencv_face_detector_uint8.pb\"\n",
    "\n",
    "ageProto = \"./AgeGender/age_deploy.prototxt\"\n",
    "ageModel = \"./AgeGender/age_net.caffemodel\"\n",
    "\n",
    "genderProto = \"./AgeGender/gender_deploy.prototxt\"\n",
    "genderModel = \"./AgeGender/gender_net.caffemodel\""
   ]
  },
  {
   "cell_type": "code",
   "execution_count": 27,
   "id": "d96600d7",
   "metadata": {},
   "outputs": [],
   "source": [
    "MODEL_MEAN_VALUES = (78.4263377603, 87.7689143744, 114.895847746)\n",
    "ageList = ['(0-2)', '(4-6)', '(8-12)', '(15-20)', '(25-32)', '(38-43)', '(48-53)', '(60-100)']\n",
    "genderList = ['Male', 'Female']\n",
    "ageNet = cv2.dnn.readNet(ageModel, ageProto)\n",
    "genderNet = cv2.dnn.readNet(genderModel, genderProto)\n",
    "faceNet = cv2.dnn.readNet(faceModel, faceProto)"
   ]
  },
  {
   "cell_type": "code",
   "execution_count": 28,
   "id": "da407b04",
   "metadata": {},
   "outputs": [
    {
     "name": "stdout",
     "output_type": "stream",
     "text": [
      "[[[203 188 175]\n",
      "  [204 189 176]\n",
      "  [207 193 178]\n",
      "  ...\n",
      "  [118 119 118]\n",
      "  [119 119 119]\n",
      "  [118 118 118]]\n",
      "\n",
      " [[204 191 173]\n",
      "  [204 191 173]\n",
      "  [205 191 176]\n",
      "  ...\n",
      "  [116 119 119]\n",
      "  [118 119 119]\n",
      "  [119 120 120]]\n",
      "\n",
      " [[203 193 174]\n",
      "  [203 193 174]\n",
      "  [201 190 174]\n",
      "  ...\n",
      "  [117 120 120]\n",
      "  [117 120 120]\n",
      "  [117 120 120]]\n",
      "\n",
      " ...\n",
      "\n",
      " [[103  62  48]\n",
      "  [107  66  52]\n",
      "  [122  78  65]\n",
      "  ...\n",
      "  [255 253 244]\n",
      "  [255 249 235]\n",
      "  [250 235 217]]\n",
      "\n",
      " [[115  77  60]\n",
      "  [101  63  46]\n",
      "  [107  69  52]\n",
      "  ...\n",
      "  [255 253 249]\n",
      "  [255 251 246]\n",
      "  [252 245 237]]\n",
      "\n",
      " [[201 158 142]\n",
      "  [172 129 113]\n",
      "  [181 138 122]\n",
      "  ...\n",
      "  [254 254 253]\n",
      "  [253 253 251]\n",
      "  [251 252 247]]]\n"
     ]
    }
   ],
   "source": [
    "padding = 20\n",
    "cv2.waitKey(1)\n",
    "t = time.time()\n",
    "hasFrame, frame = videoIn.read()\n",
    "frame = cv2.flip(frame, 1)\n",
    "frameFace, bboxes = getFaceBox(faceNet, frame)\n",
    "print(frame)"
   ]
  },
  {
   "cell_type": "code",
   "execution_count": 29,
   "id": "1cd77010",
   "metadata": {
    "scrolled": false
   },
   "outputs": [
    {
     "name": "stdout",
     "output_type": "stream",
     "text": [
      "======= <class 'numpy.ndarray'> (338, 278, 3)\n",
      "====== <class 'numpy.ndarray'> (1, 3, 227, 227)\n",
      "++++++ <class 'numpy.ndarray'> (1, 2) [[9.9986279e-01 1.3714161e-04]]\n",
      "Gender : Male, conf = 1.000\n",
      "3\n",
      "********* [1.1687631e-05 5.1676147e-05 3.1144719e-03 9.7279638e-01 2.2140628e-02\n",
      " 1.7134638e-03 1.4744374e-04 2.4184817e-05]\n",
      "Age Output : [[1.1687631e-05 5.1676147e-05 3.1144719e-03 9.7279638e-01 2.2140628e-02\n",
      "  1.7134638e-03 1.4744374e-04 2.4184817e-05]]\n",
      "Age : (15-20), conf = 0.973\n",
      "None\n"
     ]
    }
   ],
   "source": [
    "for bbox in bboxes: \n",
    "    face = frame[max(0, bbox[1] - padding):min(bbox[3] + padding, frame.shape[0] - 1),\n",
    "           max(0, bbox[0] - padding):min(bbox[2] + padding, frame.shape[1] - 1)]\n",
    "    print(\"=======\", type(face), face.shape) \n",
    "    blob = cv2.dnn.blobFromImage(face, 1.0, (227, 227), MODEL_MEAN_VALUES, swapRB=False)\n",
    "    print(\"======\", type(blob), blob.shape)  \n",
    "    genderNet.setInput(blob)   \n",
    "    genderPreds = genderNet.forward()   \n",
    "    print(\"++++++\", type(genderPreds), genderPreds.shape, genderPreds)   \n",
    "    gender = genderList[genderPreds[0].argmax()]  \n",
    "    print(\"Gender : {}, conf = {:.3f}\".format(gender, genderPreds[0].max()))\n",
    "    ageNet.setInput(blob)\n",
    "    agePreds = ageNet.forward()\n",
    "    age = ageList[agePreds[0].argmax()]\n",
    "    print(agePreds[0].argmax())  \n",
    "    print(\"*********\", agePreds[0])  \n",
    "    print(\"Age Output : {}\".format(agePreds))\n",
    "    print(\"Age : {}, conf = {:.3f}\".format(age, agePreds[0].max()))\n",
    "    label = \"{},{}\".format(gender, age)\n",
    "    cv2.putText(frameFace, label, (bbox[0], bbox[1] - 10), cv2.FONT_HERSHEY_SIMPLEX, 0.8, (0, 255, 255), 2,\n",
    "               cv2.LINE_AA)  \n",
    "outframe = hdmi_out.newframe()\n",
    "outframe[0:480,0:640,:] = frameFace[0:480,0:640,:]\n",
    "img = hdmi_out.writeframe(outframe)\n",
    "print(img)"
   ]
  },
  {
   "cell_type": "code",
   "execution_count": 20,
   "id": "dd83b996",
   "metadata": {},
   "outputs": [],
   "source": [
    "videoIn.release()\n",
    "hdmi_out.stop()\n",
    "del hdmi_out"
   ]
  },
  {
   "cell_type": "code",
   "execution_count": null,
   "id": "d48d0329",
   "metadata": {},
   "outputs": [],
   "source": []
  },
  {
   "cell_type": "code",
   "execution_count": null,
   "id": "c66c3d04",
   "metadata": {},
   "outputs": [],
   "source": []
  },
  {
   "cell_type": "code",
   "execution_count": null,
   "id": "3ab95960",
   "metadata": {},
   "outputs": [],
   "source": []
  },
  {
   "cell_type": "code",
   "execution_count": null,
   "id": "9b74cf88",
   "metadata": {},
   "outputs": [],
   "source": []
  }
 ],
 "metadata": {
  "kernelspec": {
   "display_name": "Python 3",
   "language": "python",
   "name": "python3"
  },
  "language_info": {
   "codemirror_mode": {
    "name": "ipython",
    "version": 3
   },
   "file_extension": ".py",
   "mimetype": "text/x-python",
   "name": "python",
   "nbconvert_exporter": "python",
   "pygments_lexer": "ipython3",
   "version": "3.8.2"
  }
 },
 "nbformat": 4,
 "nbformat_minor": 5
}
